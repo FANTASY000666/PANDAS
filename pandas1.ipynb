{
  "nbformat": 4,
  "nbformat_minor": 0,
  "metadata": {
    "colab": {
      "provenance": [],
      "authorship_tag": "ABX9TyO2vW5oG0zXg8UIvfjN26Kx",
      "include_colab_link": true
    },
    "kernelspec": {
      "name": "python3",
      "display_name": "Python 3"
    },
    "language_info": {
      "name": "python"
    }
  },
  "cells": [
    {
      "cell_type": "markdown",
      "metadata": {
        "id": "view-in-github",
        "colab_type": "text"
      },
      "source": [
        "<a href=\"https://colab.research.google.com/github/FANTASY000666/PANDAS/blob/main/pandas1.ipynb\" target=\"_parent\"><img src=\"https://colab.research.google.com/assets/colab-badge.svg\" alt=\"Open In Colab\"/></a>"
      ]
    },
    {
      "cell_type": "code",
      "metadata": {
        "id": "ZmL0l551Iibq"
      },
      "source": [
        "import numpy as np\n",
        "import pandas as pd"
      ],
      "execution_count": 92,
      "outputs": []
    },
    {
      "cell_type": "markdown",
      "source": [
        "*creating* a dataframe (10 cells)"
      ],
      "metadata": {
        "id": "48ujKka5DlLT"
      }
    },
    {
      "cell_type": "code",
      "source": [
        "# create a 5x2 array this respresents the 10 cells to hold the data\n",
        "my_data = np.array([[5,2], [10,1], [3,2], [11,8], [3,9]])\n",
        "\n",
        "# create a python list that holds the names of the two colums\n",
        "my_column_names = ['Temperature', 'Activity']\n",
        "\n",
        "# create a dataframe containing the data and the columns titles\n",
        "my_data_frame = pd.DataFrame(data = my_data, columns = my_column_names)\n",
        "\n",
        "#print the dataframe\n",
        "print(my_data_frame)"
      ],
      "metadata": {
        "id": "gH9CThoP8NlP",
        "colab": {
          "base_uri": "https://localhost:8080/"
        },
        "outputId": "281776ac-5d07-4ddf-fda4-df6d2bd562e0"
      },
      "execution_count": 93,
      "outputs": [
        {
          "output_type": "stream",
          "name": "stdout",
          "text": [
            "   Temperature  Activity\n",
            "0            5         2\n",
            "1           10         1\n",
            "2            3         2\n",
            "3           11         8\n",
            "4            3         9\n"
          ]
        }
      ]
    },
    {
      "cell_type": "markdown",
      "source": [
        "adding a new column to the dataset"
      ],
      "metadata": {
        "id": "MFOCwqv9Ds-i"
      }
    },
    {
      "cell_type": "code",
      "source": [
        "# create a new column called adjusted(value in activity + 2) in the dataframe my_data_frame\n",
        "my_data_frame[\"Adjusted\"] = my_data_frame[\"Activity\"] + 2\n",
        "# print the new dataframe\n",
        "print(my_data_frame)"
      ],
      "metadata": {
        "id": "7JknaiOeDx8s",
        "colab": {
          "base_uri": "https://localhost:8080/"
        },
        "outputId": "d82ac6ea-a383-4585-b99d-084ad8413229"
      },
      "execution_count": 94,
      "outputs": [
        {
          "output_type": "stream",
          "name": "stdout",
          "text": [
            "   Temperature  Activity  Adjusted\n",
            "0            5         2         4\n",
            "1           10         1         3\n",
            "2            3         2         4\n",
            "3           11         8        10\n",
            "4            3         9        11\n"
          ]
        }
      ]
    },
    {
      "cell_type": "code",
      "source": [],
      "metadata": {
        "id": "ECbt0yOXFjRJ"
      },
      "execution_count": 94,
      "outputs": []
    },
    {
      "cell_type": "code",
      "source": [
        "# create a new column called Rewired and specify its values in an list\n",
        "my_data_frame[\"Rewired\"] = (1, 2, 3, 4, 5)\n",
        "print(my_data_frame)\n"
      ],
      "metadata": {
        "id": "56Wd92OxE8cp",
        "colab": {
          "base_uri": "https://localhost:8080/"
        },
        "outputId": "da3b1f62-27d5-4f5b-c7ec-a750522fc736"
      },
      "execution_count": 95,
      "outputs": [
        {
          "output_type": "stream",
          "name": "stdout",
          "text": [
            "   Temperature  Activity  Adjusted  Rewired\n",
            "0            5         2         4        1\n",
            "1           10         1         3        2\n",
            "2            3         2         4        3\n",
            "3           11         8        10        4\n",
            "4            3         9        11        5\n"
          ]
        }
      ]
    },
    {
      "cell_type": "markdown",
      "source": [
        "Specifying a subset of a dataframe. Pandas provide multiples ways to isolate specific rows, columns, slices or cells in a DataFrame."
      ],
      "metadata": {
        "id": "njngQFYYF3j1"
      }
    },
    {
      "cell_type": "code",
      "source": [
        "print(\"Rows #0, #1, and #2:\") # this line prints a message\n",
        "print(my_data_frame.head(3), '\\n') # .head function is used to retrieve the first n rows of a dataframe this specific prints the first 3 rows of the dataframe\n",
        "print(my_data_frame.head(1), '\\n') # this prints only the first row\n",
        "print(\"Row #2:\")\n",
        "print(my_data_frame.iloc[[2]], '\\n') #The \"iloc\" function is used to select rows by their integer position.\n",
        "print(my_data_frame.iloc[[3]], '\\n') # This line of code selects and pronts row with index 3\n",
        "print(my_data_frame.iloc[[0]], '\\n') # This line of code selects and prints row with index 0\n",
        "print(\"Rows #1, #2, and #3:\")\n",
        "print(my_data_frame[1:4], '\\n') # This code prints the rows with indices 1, 2, and 3 (excluding 4) using slicing.\n",
        "print(\"Column 'Temperature':\")\n",
        "print(my_data_frame['Temperature']) # This code prints the values in the 'temperature' column of the DataFrame."
      ],
      "metadata": {
        "id": "5L9HP-39HdUC",
        "colab": {
          "base_uri": "https://localhost:8080/"
        },
        "outputId": "8a07e329-6726-455e-b787-4fc785dcf3a0"
      },
      "execution_count": 96,
      "outputs": [
        {
          "output_type": "stream",
          "name": "stdout",
          "text": [
            "Rows #0, #1, and #2:\n",
            "   Temperature  Activity  Adjusted  Rewired\n",
            "0            5         2         4        1\n",
            "1           10         1         3        2\n",
            "2            3         2         4        3 \n",
            "\n",
            "   Temperature  Activity  Adjusted  Rewired\n",
            "0            5         2         4        1 \n",
            "\n",
            "Row #2:\n",
            "   Temperature  Activity  Adjusted  Rewired\n",
            "2            3         2         4        3 \n",
            "\n",
            "   Temperature  Activity  Adjusted  Rewired\n",
            "3           11         8        10        4 \n",
            "\n",
            "   Temperature  Activity  Adjusted  Rewired\n",
            "0            5         2         4        1 \n",
            "\n",
            "Rows #1, #2, and #3:\n",
            "   Temperature  Activity  Adjusted  Rewired\n",
            "1           10         1         3        2\n",
            "2            3         2         4        3\n",
            "3           11         8        10        4 \n",
            "\n",
            "Column 'Temperature':\n",
            "0     5\n",
            "1    10\n",
            "2     3\n",
            "3    11\n",
            "4     3\n",
            "Name: Temperature, dtype: int64\n"
          ]
        }
      ]
    },
    {
      "cell_type": "markdown",
      "source": [
        "\n",
        "\n",
        ">Task 1\n",
        "\n"
      ],
      "metadata": {
        "id": "yObFG7-sYbuk"
      }
    },
    {
      "cell_type": "code",
      "source": [
        "my_column_names = ('Eleanor', 'Chidi', 'Tahani', 'Jason')\n",
        "myData = np.array([[20, 33, 70, 100], [21, 33, 43, 99], [33, 48, 99, 67]])\n",
        "MyDataFrame = pd.DataFrame(data = myData, columns = my_column_names)\n",
        "print(MyDataFrame, '\\n')\n",
        "\n",
        "print(\"Printing the value at a specific cell in a column\")\n",
        "print(MyDataFrame.at[0, 'Eleanor'], '\\n')\n",
        "\n",
        "print(\"Creating a fifth column\")\n",
        "MyDataFrame[\"Janet\"] = MyDataFrame['Tahani'] + MyDataFrame['Jason']\n",
        "print(MyDataFrame)"
      ],
      "metadata": {
        "id": "-FXUhYapSK5K",
        "colab": {
          "base_uri": "https://localhost:8080/"
        },
        "outputId": "393b6b56-48ad-434e-9eb8-8309acc730a8"
      },
      "execution_count": 97,
      "outputs": [
        {
          "output_type": "stream",
          "name": "stdout",
          "text": [
            "   Eleanor  Chidi  Tahani  Jason\n",
            "0       20     33      70    100\n",
            "1       21     33      43     99\n",
            "2       33     48      99     67 \n",
            "\n",
            "Printing the value at a specific cell in a column\n",
            "20 \n",
            "\n",
            "Creating a fifth column\n",
            "   Eleanor  Chidi  Tahani  Jason  Janet\n",
            "0       20     33      70    100    170\n",
            "1       21     33      43     99    142\n",
            "2       33     48      99     67    166\n"
          ]
        }
      ]
    },
    {
      "cell_type": "markdown",
      "source": [
        "***Duplicating a dataset***\n",
        "\n",
        "Referencing. If you assign a DataFrame to a new variable, any change to the DataFrame or to the new variable will be reflected in the other.\n",
        "\n",
        "Copying. If you call the pd.DataFrame.copy method, you create a true independent copy. Changes to the original DataFrame or to the copy will not be reflected in the other.\n",
        "The difference is subtle, but important."
      ],
      "metadata": {
        "id": "yX8sCYVjSJYU"
      }
    },
    {
      "cell_type": "code",
      "source": [
        "# Referencing\n",
        "print(\"Experiment with a reference:\")\n",
        "reference_to_MyDataFrame = MyDataFrame\n",
        "\n",
        "# Printing the start value at a particular cell\n",
        "print(\"  Starting value of MyDataFrame: %d\" % MyDataFrame.at[1, 'Jason'])\n",
        "print(\"  Starting value of reference_to_MyDataFrame: %d\" % reference_to_MyDataFrame.at[1, 'Jason'], '\\n')\n",
        "\n",
        "# modifying a particular cell in MyDataFrame\n",
        "MyDataFrame.at[1, 'Jason'] = MyDataFrame.at[1, 'Jason'] + 5\n",
        "print(\" Cell 2 at column Jason of MyDataFrame: %d\" % MyDataFrame.at[1, 'Jason'])\n",
        "print(\" Cell 2 at column Jason of reference_to_MyDataFrame: %d\" % reference_to_MyDataFrame.at[1, 'Jason'], '\\n')\n",
        "\n",
        "# modifying a particular cell in MyDataFrame 2\n",
        "MyDataFrame.at[2, 'Jason'] = reference_to_MyDataFrame.at[2, 'Jason'] + 10\n",
        "print(\" Cell 3 at column Jason of MyDataFrame: %d\" % MyDataFrame.at[2, 'Jason'])\n",
        "print(\" Cell 3 at column Jason of MyDataFrame: %d\" % reference_to_MyDataFrame.at[2, 'Jason'], '\\n')\n",
        "\n",
        "# creating a true copy of a Dataframe.\n",
        "print(\" Creating a True copy of a Database \")\n",
        "copy_of_MyDataFrame = MyDataFrame.copy()\n",
        "\n",
        "print(\"  Starting value of MyDataFrame: %d\" % MyDataFrame.at[1, 'Chidi'])\n",
        "print(\"  Starting value of copy_of_MyDataFrame: %d\\n\" % copy_of_MyDataFrame.at[1, 'Chidi'], '\\n')\n",
        "\n",
        "# changes to MyDataFrame don't Affect changed to copy_of_MyDataFrame.\n",
        "MyDataFrame.at[1,'Chidi'] = MyDataFrame.at[1, 'Chidi'] + 10\n",
        "print(\"Cell 2 at column Chidi of MyDataFrame: %d\" % MyDataFrame.at[1, 'Chidi'])\n",
        "print(\"Cell 2 at column Chidi of copy_of_MyDataFrame: %d\" % copy_of_MyDataFrame.at[1, 'Chidi'])\n",
        "\n",
        "# lines of code below updates the copy of MydataFrame to values in the new changed DataFrame.\n",
        "copy_of_MyDataFrame.update(MyDataFrame)\n",
        "print(copy_of_MyDataFrame, '\\n')\n",
        "\n",
        "#Modifying a Cell in MyDataFrame using copy_of_MyDataFrame.\n",
        "MyDataFrame.at[2, 'Chidi'] = copy_of_MyDataFrame.at[2, 'Chidi'] + 5\n",
        "print(\"Cell 3 at column Chidi of MyDataFrame: %d\" % MyDataFrame.at[2, 'Chidi'])\n",
        "print(\"Cell 3 at column Chidi of copy_of_MyDataFrame: %d\" % copy_of_MyDataFrame.at[2, 'Chidi'])\n",
        "# This only changes the value in Cell 3 of  MyDataFrame but not in Cell 3 of copy_of_MyDataFrame\n",
        "\n",
        "\n"
      ],
      "metadata": {
        "id": "6_Nu6gEYYqco",
        "colab": {
          "base_uri": "https://localhost:8080/"
        },
        "outputId": "001b1ce7-a4d6-4f06-e9ac-9ff10799232c"
      },
      "execution_count": 98,
      "outputs": [
        {
          "output_type": "stream",
          "name": "stdout",
          "text": [
            "Experiment with a reference:\n",
            "  Starting value of MyDataFrame: 99\n",
            "  Starting value of reference_to_MyDataFrame: 99 \n",
            "\n",
            " Cell 2 at column Jason of MyDataFrame: 104\n",
            " Cell 2 at column Jason of reference_to_MyDataFrame: 104 \n",
            "\n",
            " Cell 3 at column Jason of MyDataFrame: 77\n",
            " Cell 3 at column Jason of MyDataFrame: 77 \n",
            "\n",
            " Creating a True copy of a Database \n",
            "  Starting value of MyDataFrame: 33\n",
            "  Starting value of copy_of_MyDataFrame: 33\n",
            " \n",
            "\n",
            "Cell 2 at column Chidi of MyDataFrame: 43\n",
            "Cell 2 at column Chidi of copy_of_MyDataFrame: 33\n",
            "   Eleanor  Chidi  Tahani  Jason  Janet\n",
            "0       20     33      70    100    170\n",
            "1       21     43      43    104    142\n",
            "2       33     48      99     77    166 \n",
            "\n",
            "Cell 3 at column Chidi of MyDataFrame: 53\n",
            "Cell 3 at column Chidi of copy_of_MyDataFrame: 48\n"
          ]
        }
      ]
    }
  ]
}